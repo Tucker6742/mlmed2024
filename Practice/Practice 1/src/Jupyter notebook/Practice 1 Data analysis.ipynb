{
 "cells": [
  {
   "cell_type": "code",
   "execution_count": null,
   "metadata": {},
   "outputs": [],
   "source": [
    "import polars as pl\n",
    "import numpy as np\n",
    "import matplotlib.pyplot as plt\n",
    "import polars.selectors as cs\n",
    "from varname import argname\n",
    "import pathlib\n",
    "from pathlib import Path"
   ]
  },
  {
   "cell_type": "code",
   "execution_count": null,
   "metadata": {},
   "outputs": [],
   "source": [
    "def formatting_data(data_path: pathlib.Path) -> pl.DataFrame:\n",
    "    raw_data: pl.DataFrame = pl.read_csv(data_path)\n",
    "    class_col: str = raw_data.columns[-1]\n",
    "    data: pl.DataFrame = raw_data.select(\n",
    "        value=pl.concat_list(pl.exclude(class_col)),\n",
    "        signal_class=pl.col(class_col)\n",
    "    ).cast({\"signal_class\": pl.Int32})\n",
    "    print(\n",
    "        data.group_by(\"signal_class\")\n",
    "        .agg(pl.count(\"value\"))\n",
    "        .sort(\"signal_class\")\n",
    "        .with_columns((pl.col(\"value\") / pl.sum(\"value\")).alias(\"percentage\") * 100)\n",
    "        .rename({\"value\": \"count\"})\n",
    "    )\n",
    "    return data"
   ]
  },
  {
   "cell_type": "code",
   "execution_count": null,
   "metadata": {},
   "outputs": [],
   "source": [
    "def plot_data(data: pl.DataFrame, name_dict: dict[int, str]) -> None:\n",
    "\n",
    "    # line plot for each class\n",
    "\n",
    "    title = argname(\"data\")\n",
    "\n",
    "    data_group = data.group_by(\"signal_class\")\n",
    "\n",
    "    data_line = data_group.all().sort(\"signal_class\").rename({\"value\": \"count\"})\n",
    "\n",
    "    data_pie = (\n",
    "        data_group.agg(pl.count(\"value\").alias(\"count\"))\n",
    "        .sort(\"signal_class\")\n",
    "        .with_columns(\n",
    "            percentage=(pl.col(\"count\") / pl.sum(\"count\")).alias(\"percentage\") * 100\n",
    "        )\n",
    "    )\n",
    "\n",
    "    num_class = data_line.shape[0]\n",
    "\n",
    "    scale = 10\n",
    "\n",
    "    fig_line, ax_line = plt.subplots(\n",
    "        num_class, 1, figsize=(scale * 3, num_class * scale), layout=\"constrained\"\n",
    "    )\n",
    "\n",
    "    print(\"Begin to plot line chart. Please wait for a while.\")\n",
    "\n",
    "    for index_axis, axis in enumerate(ax_line):\n",
    "\n",
    "        for signal in data_line[\"count\"][index_axis]:\n",
    "\n",
    "            axis.plot(signal)\n",
    "\n",
    "        axis.set_title(f\"Class {name_dict[index_axis]}\", fontsize=3 * scale)\n",
    "\n",
    "    fig_line.suptitle(f\"Signal Classes {title}\", fontsize=4 * scale)\n",
    "\n",
    "    fig_line.savefig(f\"../../Figure/Signal Classes {title}\")\n",
    "    plt.show()\n",
    "\n",
    "    print(\"Line chart has been saved.\")\n",
    "\n",
    "    # Pie chart\n",
    "\n",
    "    fig_pie, ax_pie = plt.subplots(\n",
    "        1, 1, figsize=(scale * 3, scale * 3), layout=\"constrained\"\n",
    "    )\n",
    "\n",
    "    print(\"Begin to plot pie chart. Please wait for a while.\")\n",
    "\n",
    "    ax_pie.pie(\n",
    "        data_pie[\"percentage\"],\n",
    "        labels=[name_dict[i] for i in data_pie[\"signal_class\"]],\n",
    "        autopct=\"%1.2f%%\",\n",
    "        startangle=90,\n",
    "        textprops=dict(fontsize=3.5 * scale),\n",
    "    )\n",
    "\n",
    "    ax_pie.set_title(f\"Signal Classes {title}\", fontsize=5 * scale)\n",
    "\n",
    "    fig_pie.savefig(f\"../../Figure/Signal Classes {title} Pie Chart\")\n",
    "    plt.show()\n",
    "\n",
    "    print(\"Pie chart has been saved.\")"
   ]
  },
  {
   "cell_type": "code",
   "execution_count": null,
   "metadata": {},
   "outputs": [],
   "source": [
    "name_dict: dict[int, str] = {\n",
    "    0: \"N\",\n",
    "    1: \"S\",\n",
    "    2: \"V\",\n",
    "    3: \"F\",\n",
    "    4: \"Q\"\n",
    "}"
   ]
  },
  {
   "cell_type": "code",
   "execution_count": null,
   "metadata": {},
   "outputs": [],
   "source": [
    "data_path_train: pathlib.Path = Path(\"../../archive/mitbih_train.csv\")\n",
    "data_train: pl.DataFrame = formatting_data(data_path_train)"
   ]
  },
  {
   "cell_type": "code",
   "execution_count": null,
   "metadata": {},
   "outputs": [],
   "source": [
    "data_path_test = Path(\"../../archive/mitbih_test.csv\")\n",
    "data_test: pl.DataFrame = formatting_data(data_path_test)"
   ]
  },
  {
   "cell_type": "code",
   "execution_count": null,
   "metadata": {},
   "outputs": [],
   "source": [
    "plot_data(data_train, name_dict)"
   ]
  },
  {
   "cell_type": "code",
   "execution_count": null,
   "metadata": {},
   "outputs": [],
   "source": [
    "plot_data(data_test, name_dict)"
   ]
  }
 ],
 "metadata": {
  "kernelspec": {
   "display_name": "ML_med",
   "language": "python",
   "name": "python3"
  },
  "language_info": {
   "codemirror_mode": {
    "name": "ipython",
    "version": 3
   },
   "file_extension": ".py",
   "mimetype": "text/x-python",
   "name": "python",
   "nbconvert_exporter": "python",
   "pygments_lexer": "ipython3",
   "version": "3.12.2"
  }
 },
 "nbformat": 4,
 "nbformat_minor": 2
}

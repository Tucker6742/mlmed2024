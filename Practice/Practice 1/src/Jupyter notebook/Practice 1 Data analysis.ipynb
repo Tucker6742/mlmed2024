{
 "cells": [
  {
   "cell_type": "code",
   "execution_count": null,
   "metadata": {},
   "outputs": [],
   "source": [
    "import polars as pl\n",
    "import numpy as np\n",
    "import matplotlib.pyplot as plt\n",
    "import polars.selectors as cs\n",
    "from varname import argname"
   ]
  },
  {
   "cell_type": "code",
   "execution_count": null,
   "metadata": {},
   "outputs": [],
   "source": [
    "def formatting_data(data_path: str) -> pl.DataFrame:\n",
    "    raw_data: pl.DataFrame = pl.read_csv(data_path)\n",
    "    class_col = raw_data.columns[-1]\n",
    "    data = raw_data.select(\n",
    "        value=pl.concat_list(pl.exclude(class_col)),\n",
    "        signal_class=pl.col(class_col)\n",
    "    ).cast({\"signal_class\": pl.Int32})\n",
    "    print(\n",
    "        data.group_by(\"signal_class\")\n",
    "        .agg(pl.count(\"value\"))\n",
    "        .sort(\"signal_class\")\n",
    "        .with_columns((pl.col(\"value\") / pl.sum(\"value\")).alias(\"percentage\") * 100)\n",
    "        .rename({\"value\": \"count\"})\n",
    "    )\n",
    "    return data"
   ]
  },
  {
   "cell_type": "code",
   "execution_count": null,
   "metadata": {},
   "outputs": [],
   "source": [
    "def plot_data(data: pl.DataFrame, name_dict: dict[int, str]) -> None:\n",
    "    title = argname(\"data\")\n",
    "    data_group = data.group_by(\"signal_class\").all().sort(\"signal_class\")\n",
    "    num_class = data_group.shape[0]\n",
    "    scale = 10\n",
    "    fig, ax = plt.subplots(\n",
    "        num_class, 1,\n",
    "        figsize=(\n",
    "            scale * 3, num_class * scale\n",
    "        ),\n",
    "        layout=\"constrained\"\n",
    "        \n",
    "    )\n",
    "    for index_axis, axis in enumerate(ax):\n",
    "        for signal in data_group[\"value\"][index_axis]:\n",
    "            axis.plot(signal)\n",
    "        axis.set_title(f\"Class {name_dict[index_axis]}\", fontsize=30)\n",
    "    fig.suptitle(f\"Signal Classes {title}\", fontsize=40)\n",
    "    fig.savefig(f\"../Figure/Signal Classes {title}\")"
   ]
  },
  {
   "cell_type": "code",
   "execution_count": null,
   "metadata": {},
   "outputs": [],
   "source": [
    "name_dict = {\n",
    "    0: \"N\",\n",
    "    1: \"S\",\n",
    "    2: \"V\",\n",
    "    3: \"F\",\n",
    "    4: \"Q\"\n",
    "}"
   ]
  },
  {
   "cell_type": "code",
   "execution_count": null,
   "metadata": {},
   "outputs": [],
   "source": [
    "data_path_train = \"../src/archive/mitbih_train.csv\"\n",
    "data_train = formatting_data(data_path_train)"
   ]
  },
  {
   "cell_type": "code",
   "execution_count": null,
   "metadata": {},
   "outputs": [],
   "source": [
    "data_path_test = \"../src/archive/mitbih_test.csv\"\n",
    "data_test = formatting_data(data_path_test)"
   ]
  },
  {
   "cell_type": "code",
   "execution_count": null,
   "metadata": {},
   "outputs": [],
   "source": [
    "plot_data(data_train, name_dict)"
   ]
  },
  {
   "cell_type": "code",
   "execution_count": null,
   "metadata": {},
   "outputs": [],
   "source": [
    "plot_data(data_test, name_dict)"
   ]
  }
 ],
 "metadata": {
  "kernelspec": {
   "display_name": "ML_med",
   "language": "python",
   "name": "python3"
  },
  "language_info": {
   "codemirror_mode": {
    "name": "ipython",
    "version": 3
   },
   "file_extension": ".py",
   "mimetype": "text/x-python",
   "name": "python",
   "nbconvert_exporter": "python",
   "pygments_lexer": "ipython3",
   "version": "3.12.2"
  }
 },
 "nbformat": 4,
 "nbformat_minor": 2
}

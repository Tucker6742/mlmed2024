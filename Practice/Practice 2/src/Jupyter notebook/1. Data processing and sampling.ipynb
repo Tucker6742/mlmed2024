{
 "cells": [
  {
   "cell_type": "markdown",
   "metadata": {},
   "source": [
    "# $\\text{Import library}$"
   ]
  },
  {
   "cell_type": "code",
   "execution_count": null,
   "metadata": {},
   "outputs": [],
   "source": [
    "import polars as pl\n",
    "from varname import argname\n",
    "from pathlib import Path\n",
    "from tqdm.contrib.concurrent import thread_map\n",
    "from shutil import copyfile, rmtree, move\n",
    "from directory_tree import display_tree"
   ]
  },
  {
   "cell_type": "markdown",
   "metadata": {},
   "source": [
    "# $\\text{Utils functions}$"
   ]
  },
  {
   "cell_type": "code",
   "execution_count": null,
   "metadata": {},
   "outputs": [],
   "source": [
    "def sampling_index(dataframe: pl.DataFrame, config) -> list[pl.DataFrame]:\n",
    "    \"\"\"\n",
    "    -Parameters\n",
    "        dataframe: pl.DataFrame\n",
    "            - The dataframe to be used for sampling\n",
    "        config: dict\n",
    "            - The configuration dictionary\n",
    "\n",
    "    - Behaviour\n",
    "        - This function will return the indices of the dataframe to be used for sampling of train, val, set\n",
    "\n",
    "    -Returns\n",
    "        - The indices of the dataframe to be used for sampling of train, val, set\n",
    "    \"\"\"\n",
    "\n",
    "    dataframe = dataframe.sample(fraction=1, shuffle=True)\n",
    "    train_size = int(dataframe.height * config.train_split)\n",
    "    val_size = int(dataframe.height * config.val_split)\n",
    "    test_size = dataframe.height - train_size - val_size\n",
    "    train_df = dataframe[0:train_size]\n",
    "    val_df = dataframe[train_size : train_size + val_size]\n",
    "    test_df = dataframe[train_size + val_size :]\n",
    "    return train_df, val_df, test_df"
   ]
  },
  {
   "cell_type": "code",
   "execution_count": null,
   "metadata": {},
   "outputs": [],
   "source": [
    "def create_directory_tree(root_path:Path):\n",
    "    \"\"\"\n",
    "    -Parameters\n",
    "        root_path: Path\n",
    "            - The current path\n",
    "\n",
    "    - Behaviour\n",
    "        - This function will create the directory tree for the current path\n",
    "\n",
    "    -Returns\n",
    "        - None\n",
    "    \"\"\"\n",
    "    data_types = [\"train\", \"val\", \"test\"]\n",
    "    folder_types = [\"images\", \"annotations\", \"labels\"]\n",
    "    for data_type in data_types:\n",
    "        data_type_path = root_path / data_type\n",
    "        for folder_type in folder_types:\n",
    "            folder_type_path = data_type_path / folder_type\n",
    "            if folder_type_path.exists():\n",
    "                rmtree(folder_type_path)\n",
    "            folder_type_path.mkdir(parents=True, exist_ok=True)\n",
    "    \n",
    "    print(f\"Directory tree created at {root_path}\")\n",
    "    "
   ]
  },
  {
   "cell_type": "code",
   "execution_count": null,
   "metadata": {},
   "outputs": [],
   "source": [
    "def copy(src_dir:Path, dest_dir:Path):\n",
    "    \"\"\"\n",
    "    -Parameters\n",
    "        src_dir: Path\n",
    "            - The source directory\n",
    "        dest_dir: Path\n",
    "            - The destination directory\n",
    "\n",
    "    - Behaviour\n",
    "        - This function will move the file from the source directory to the destination directory\n",
    "\n",
    "    -Returns\n",
    "        - None\n",
    "    \"\"\"\n",
    "    src = src_dir\n",
    "    dest = dest_dir\n",
    "    copyfile(src, dest)\n",
    "    # print(f\"Moved {file_name} from {src_dir} to {dest_dir}\")"
   ]
  },
  {
   "cell_type": "code",
   "execution_count": null,
   "metadata": {},
   "outputs": [],
   "source": [
    "def move_files(*dfs, root_dir) -> None:\n",
    "    \"\"\"\n",
    "    - Parameters\n",
    "        dfs: pl.DataFrame\n",
    "            - The dataframes that contain file to be moved\n",
    "\n",
    "    - Behaviour\n",
    "        - This function will move the files from the source directory to the destination directory\n",
    "\n",
    "    - Returns\n",
    "        - None\n",
    "    \"\"\"\n",
    "    df_names = [df.split(\"_\")[0] for df in argname(\"dfs\")]\n",
    "\n",
    "    for df, df_name in zip(dfs, df_names):\n",
    "        print(f\"Copying files for {df_name}\\n\")\n",
    "        img_dirs = df[\"img_path\"].to_list()\n",
    "        img_dest = [root_dir / df_name / \"images\" / file.name for file in img_dirs]\n",
    "        ann_dirs = df[\"anno_path\"].to_list()\n",
    "        ann_dest = [root_dir / df_name / \"annotations\" / file.name for file in ann_dirs]\n",
    "\n",
    "        print(f\"Copying {len(img_dirs)} images\\n\")\n",
    "        thread_map(copy, img_dirs, img_dest)\n",
    "\n",
    "        print(f\"Copying {len(ann_dirs)} annotations\\n\\n\")\n",
    "        thread_map(copy, ann_dirs, ann_dest)\n",
    "\n",
    "    print(\"Files moved successfully\")\n",
    "    move(root_dir / \"test_set\", root_dir / \"images\" / \"evaluate_set\")\n",
    "    rmtree(root_dir / \"training_set\")\n",
    "\n",
    "    print(\"Fininshed moving files\")"
   ]
  },
  {
   "cell_type": "markdown",
   "metadata": {},
   "source": [
    "# $\\text{Config}$"
   ]
  },
  {
   "cell_type": "code",
   "execution_count": null,
   "metadata": {},
   "outputs": [],
   "source": [
    "class Config:\n",
    "    def __init__(self):\n",
    "        self.train_split = 0.7\n",
    "        self.val_split = 0.2\n",
    "        self.test_split = 0.1"
   ]
  },
  {
   "cell_type": "code",
   "execution_count": null,
   "metadata": {},
   "outputs": [],
   "source": [
    "config = Config()"
   ]
  },
  {
   "cell_type": "code",
   "execution_count": null,
   "metadata": {},
   "outputs": [],
   "source": [
    "root_dir = Path(\"../../data\")"
   ]
  },
  {
   "cell_type": "markdown",
   "metadata": {},
   "source": [
    "# $\\text{Building directory tree}$"
   ]
  },
  {
   "cell_type": "code",
   "execution_count": null,
   "metadata": {},
   "outputs": [],
   "source": [
    "create_directory_tree(root_dir)\n",
    "display_tree(\n",
    "    root_dir,\n",
    "    string_rep=False,\n",
    "    header=False,\n",
    "    max_depth=2,\n",
    "    show_hidden=False,\n",
    "    ignore_list=[\"test_set\", \"training_set\"],\n",
    ")"
   ]
  },
  {
   "cell_type": "markdown",
   "metadata": {},
   "source": [
    "# $\\text{Splitting data directory}$"
   ]
  },
  {
   "cell_type": "code",
   "execution_count": null,
   "metadata": {},
   "outputs": [],
   "source": [
    "img_paths = sorted(Path(root_dir / \"training_set\").rglob(\"*HC.png\"))\n",
    "anno_paths = sorted(Path(root_dir / \"training_set\").rglob(\"*Annotation.png\"))"
   ]
  },
  {
   "cell_type": "code",
   "execution_count": null,
   "metadata": {},
   "outputs": [],
   "source": [
    "train_df, val_df, test_df = sampling_index(\n",
    "    pl.DataFrame(\n",
    "        {\n",
    "            \"img_path\": img_paths,\n",
    "            \"anno_path\": anno_paths,\n",
    "        }\n",
    "    ),\n",
    "    config,\n",
    ")"
   ]
  },
  {
   "cell_type": "code",
   "execution_count": null,
   "metadata": {},
   "outputs": [],
   "source": [
    "move_files(train_df, val_df, test_df, root_dir=root_dir)"
   ]
  }
 ],
 "metadata": {
  "kernelspec": {
   "display_name": "ML_med",
   "language": "python",
   "name": "python3"
  },
  "language_info": {
   "codemirror_mode": {
    "name": "ipython",
    "version": 3
   },
   "file_extension": ".py",
   "mimetype": "text/x-python",
   "name": "python",
   "nbconvert_exporter": "python",
   "pygments_lexer": "ipython3",
   "version": "3.11.8"
  }
 },
 "nbformat": 4,
 "nbformat_minor": 2
}

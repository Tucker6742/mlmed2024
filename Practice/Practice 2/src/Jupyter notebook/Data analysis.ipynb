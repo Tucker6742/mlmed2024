{
 "cells": [
  {
   "cell_type": "markdown",
   "metadata": {},
   "source": [
    "# $\\text{Import library}$"
   ]
  },
  {
   "cell_type": "code",
   "execution_count": null,
   "metadata": {},
   "outputs": [],
   "source": [
    "import polars as pl\n",
    "import numpy as np\n",
    "import matplotlib.pyplot as plt\n",
    "import polars.selectors as cs\n",
    "from varname import argname\n",
    "import pathlib\n",
    "from pathlib import Path\n",
    "from PIL import Image\n",
    "import numpy.linalg as npla\n",
    "from matplotlib.patches import Ellipse\n",
    "from tqdm.contrib.concurrent import thread_map"
   ]
  },
  {
   "cell_type": "markdown",
   "metadata": {},
   "source": [
    "# $\\text{Utils functions}$"
   ]
  },
  {
   "cell_type": "code",
   "execution_count": null,
   "metadata": {},
   "outputs": [],
   "source": [
    "def get_ellipse_param(anno_path: Path | str, mode = \"xyabt\") -> list[str | float]:\n",
    "    \"\"\"\n",
    "    - Parameters\n",
    "        - anno_path: Path (path to the annotation image)\n",
    "\n",
    "    - Behavior\n",
    "\n",
    "        Given an annotation image, this function returns the parameters of the ellipse that best fits the annotation.\n",
    "\n",
    "    - Returns\n",
    "        - list[str | float]: [file_name, x_center, y_center, width, height, angle]\n",
    "    \"\"\"\n",
    "    if isinstance(anno_path, str):\n",
    "        anno_path = Path(anno_path)\n",
    "    anno = Image.open(anno_path)\n",
    "    pixel_array = np.array(anno.getdata()).reshape(anno.size[1], anno.size[0])\n",
    "    coords = np.array(np.where(pixel_array))[::-1]\n",
    "    coef_matrix = np.array(\n",
    "        [coords[0] ** 2, coords[0] * coords[1], coords[1] ** 2, coords[0], coords[1]],\n",
    "        dtype=int,\n",
    "    ).T\n",
    "    ones_matrix = np.ones_like(coef_matrix[:, 0])\n",
    "    parameter = npla.lstsq(coef_matrix, ones_matrix, rcond=None)[0]\n",
    "    A, B, C, D, E, F = parameter.tolist() + [-1]\n",
    "\n",
    "    a = -np.sqrt(\n",
    "        2\n",
    "        * (A * E**2 + C * D**2 - B * D * E + F * (B**2 - 4 * A * C))\n",
    "        * ((A + C) + np.sqrt((A - C) ** 2 + B**2))\n",
    "    ) / (B**2 - 4 * A * C)\n",
    "\n",
    "    b = -np.sqrt(\n",
    "        2\n",
    "        * (A * E**2 + C * D**2 - B * D * E + F * (B**2 - 4 * A * C))\n",
    "        * ((A + C) - np.sqrt((A - C) ** 2 + B**2))\n",
    "    ) / (B**2 - 4 * A * C)\n",
    "    # a, b = max(a, b), min(a, b)\n",
    "    x0 = (2 * C * D - B * E) / (B**2 - 4 * A * C)\n",
    "    y0 = (2 * A * E - B * D) / (B**2 - 4 * A * C)\n",
    "    theta = 0.5 * np.arctan2(-B,(C-A)) * 180 / np.pi\n",
    "\n",
    "    name = anno_path.name.rsplit(\"_\", 1)[0] + \".png\"\n",
    "    if mode == \"xyabt\":\n",
    "        return [name, x0, y0, a, b, theta]\n",
    "    elif mode == \"abcdef\":\n",
    "        return [name, A, B, C, D, E, F]"
   ]
  },
  {
   "cell_type": "code",
   "execution_count": null,
   "metadata": {},
   "outputs": [],
   "source": [
    "def formatting_data(\n",
    "    data_path: pathlib.Path, root_dir: Path, *args, **kwargs\n",
    ") -> pl.DataFrame:\n",
    "    \"\"\"\n",
    "\n",
    "    - Parameters:\n",
    "\n",
    "        - `data_path`: pathlib.Path (path to the train folder)\n",
    "        - `root_dir`: pathlib.Path (path to the root directory)\n",
    "\n",
    "\n",
    "    - Behavior:\n",
    "\n",
    "\n",
    "        Create `data` dataframe from image name, image path, `data_pixel` from image name, pixel size\n",
    "\n",
    "        It make `data_param` from the annotation path, and join `data` and `data_param` on `image_name` to get the ellipse parameters. Add the annotation path and the head circumference to the `data` dataframe.\n",
    "\n",
    "\n",
    "    - Returns:\n",
    "\n",
    "        `data`: `pl.DataFrame `\n",
    "\n",
    "\n",
    "        (dataframe containing the image aname, image path, annotation path, and the ellipse parameters, the pixel size and the head circumference) if the data_path is the train folder.)\n",
    "\n",
    "\n",
    "    \"\"\"\n",
    "    name = data_path.name\n",
    "    data = pl.DataFrame(\n",
    "        {\n",
    "            \"image_name\": [i.name for i in data_path.glob(\"*.png\")],\n",
    "            \"image_path\": [str(i) for i in data_path.glob(\"*.png\")],\n",
    "            \"annotation_path\": [\n",
    "                str(i) for i in (root_dir / \"annotations\" / name).glob(\"*.png\")\n",
    "            ],\n",
    "        }\n",
    "    )\n",
    "\n",
    "    data_pixel = pl.read_csv(\n",
    "        root_dir / \"training_set_pixel_size_and_HC.csv\",\n",
    "        new_columns=[\"image_name\", \"pixel_size\", \"head_circumference\"],\n",
    "    )\n",
    "    \n",
    "    data = data.join(data_pixel, on=\"image_name\")\n",
    "\n",
    "    ellipsis_param = thread_map(get_ellipse_param, data[\"annotation_path\"].to_list())\n",
    "    data_param = pl.DataFrame(\n",
    "        ellipsis_param,\n",
    "        schema=[\"image_name\", \"x0\", \"y0\", \"a\", \"b\", \"theta\"],\n",
    "    )\n",
    "\n",
    "    data = data.join(data_param, on=\"image_name\")\n",
    "    \n",
    "    data = data.select(\n",
    "        [\n",
    "            \"image_name\",\n",
    "            \"image_path\",\n",
    "            \"annotation_path\",\n",
    "            \"x0\",\n",
    "            \"y0\",\n",
    "            \"a\",\n",
    "            \"b\",\n",
    "            \"theta\",        \n",
    "            \"pixel_size\",\n",
    "            \"head_circumference\",\n",
    "        ]\n",
    "    )\n",
    "\n",
    "    return data"
   ]
  },
  {
   "cell_type": "code",
   "execution_count": null,
   "metadata": {},
   "outputs": [],
   "source": [
    "def write_an_obb(anno_path: str | Path, root_dir: Path) -> None:\n",
    "    \"\"\"\n",
    "    - Parameters\n",
    "        - anno_path: Path (path to an annotation image)\n",
    "        - label_path: Path (path to the label directory)\n",
    "\n",
    "    - Behavior\n",
    "\n",
    "        Given a annotation image, this function write the parameters of the oriented bounding box that best fits the annotation to a text file using multi-threading.\n",
    "\n",
    "        class: 0:head\n",
    "        x1, y1: highest point\n",
    "        x2, y2: rightmost point\n",
    "        x3, y3: lowest point\n",
    "        x4, y4: leftmost point\n",
    "\n",
    "    - Returns\n",
    "        - None\n",
    "    \"\"\"\n",
    "    if isinstance(anno_path, str):\n",
    "        anno_path = Path(anno_path)\n",
    "    anno = Image.open(anno_path)\n",
    "    data_class = anno_path.parent.name\n",
    "    pixel_array = np.array(anno.getdata()).reshape(anno.size[1], anno.size[0])\n",
    "    coords = np.array(np.where(pixel_array))[::-1]\n",
    "    x1, y1 = coords[:, np.argmin(coords[1])]/pixel_array.T.shape\n",
    "    x2, y2 = coords[:, np.argmax(coords[0])]/pixel_array.T.shape\n",
    "    x3, y3 = coords[:, np.argmax(coords[1])]/pixel_array.T.shape\n",
    "    x4, y4 = coords[:, np.argmin(coords[0])]/pixel_array.T.shape\n",
    "    name = anno_path.name.rsplit(\"_\", 1)[0] + \".txt\"\n",
    "    with open(root_dir / \"labels\" / data_class / name, \"w\") as f:\n",
    "        f.write(f\"0 {x1} {y1} {x2} {y2} {x3} {y3} {x4} {y4}\")"
   ]
  },
  {
   "cell_type": "code",
   "execution_count": null,
   "metadata": {},
   "outputs": [],
   "source": [
    "def write_oob_labels(data: pl.DataFrame, root_dir: Path) -> None:\n",
    "    \"\"\"\n",
    "    - Parameters\n",
    "        - anno_root_dir: Path (path to the annotation directory)\n",
    "        - root_dir: Path (path to the root directory)\n",
    "\n",
    "    - Behavior\n",
    "\n",
    "        Given an annotation directory, this function writes the parameters of the oriented bounding box that best fits the annotation to each text file using multi-threading.\n",
    "\n",
    "    - Returns\n",
    "        - None\n",
    "    \"\"\"\n",
    "    name = argname(\"data\").split(\"_\")[1]\n",
    "    print(f\"Writing oriented bounding box labels to {root_dir / 'labels' / name} ...\")\n",
    "    anno_paths = data[\"annotation_path\"].to_list()\n",
    "    root_dir = [root_dir for i in anno_paths]\n",
    "    thread_map(write_an_obb, anno_paths, root_dir)"
   ]
  },
  {
   "cell_type": "code",
   "execution_count": null,
   "metadata": {},
   "outputs": [],
   "source": [
    "def plot_sample_data(data: pl.DataFrame, *args, **kwargs) -> None:\n",
    "    \"\"\"\n",
    "    - Parameters:\n",
    "        - `data`: pl.DataFrame (dataframe containing the image aname, image path, annotation path, and the ellipse parameters, the pixel size and the head circumference)\n",
    "    \n",
    "    - Behavior:\n",
    "    \n",
    "        Plot some sample images with their corresponding ellipse annotation.\n",
    "        \n",
    "    - Returns:\n",
    "        None\n",
    "    \"\"\"\n",
    "    fig, axes = plt.subplots(2, 2, figsize=(10, 10))\n",
    "    axes = axes.flatten()\n",
    "    data = data.sample(fraction=1, shuffle=True)\n",
    "    for i, ax in enumerate(axes):\n",
    "        image = Image.open(data[\"image_path\"][i])\n",
    "        ax.imshow(image, cmap=\"gray\")\n",
    "        ellipse = Ellipse(\n",
    "            (data[\"x0\"][i], data[\"y0\"][i]),\n",
    "            data[\"a\"][i]*2,\n",
    "            data[\"b\"][i]*2,\n",
    "            angle = data[\"theta\"][i],\n",
    "            edgecolor=\"r\",\n",
    "            facecolor=\"none\",\n",
    "        )\n",
    "        ax.add_patch(ellipse)\n",
    "        ax.set_title(data[\"image_name\"][i])\n",
    "    plt.show()"
   ]
  },
  {
   "cell_type": "code",
   "execution_count": null,
   "metadata": {},
   "outputs": [],
   "source": [
    "def plot_data(data: pl.DataFrame, *args, **kwargs) -> None:\n",
    "    plot_sample_data(data)"
   ]
  },
  {
   "cell_type": "markdown",
   "metadata": {},
   "source": [
    "# $\\text{Reads and Analyze data}$"
   ]
  },
  {
   "cell_type": "code",
   "execution_count": null,
   "metadata": {},
   "outputs": [],
   "source": [
    "root_dir = Path(\"../../data\")"
   ]
  },
  {
   "cell_type": "code",
   "execution_count": null,
   "metadata": {},
   "outputs": [],
   "source": [
    "data_path_train: pathlib.Path = Path(\"../../data/images/train\")\n",
    "data_train: pl.DataFrame = formatting_data(data_path_train, root_dir)\n",
    "data_train.head()"
   ]
  },
  {
   "cell_type": "code",
   "execution_count": null,
   "metadata": {},
   "outputs": [],
   "source": [
    "data_path_val = Path(\"../../data/images/val\")\n",
    "data_val: pl.DataFrame = formatting_data(data_path_val, root_dir)\n",
    "data_val.head()"
   ]
  },
  {
   "cell_type": "code",
   "execution_count": null,
   "metadata": {},
   "outputs": [],
   "source": [
    "data_path_test = Path(\"../../data/images/test\")\n",
    "data_test: pl.DataFrame = formatting_data(data_path_test, root_dir)\n",
    "data_test.head()"
   ]
  },
  {
   "cell_type": "code",
   "execution_count": null,
   "metadata": {},
   "outputs": [],
   "source": [
    "plot_data(data_train)"
   ]
  },
  {
   "cell_type": "code",
   "execution_count": null,
   "metadata": {},
   "outputs": [],
   "source": [
    "plot_data(data_val)"
   ]
  },
  {
   "cell_type": "code",
   "execution_count": null,
   "metadata": {},
   "outputs": [],
   "source": [
    "plot_data(data_test)"
   ]
  },
  {
   "cell_type": "markdown",
   "metadata": {},
   "source": [
    "# $\\text{Make OBB labels}$"
   ]
  },
  {
   "cell_type": "code",
   "execution_count": null,
   "metadata": {},
   "outputs": [],
   "source": [
    "write_oob_labels(data_train, root_dir)\n",
    "write_oob_labels(data_val, root_dir)\n",
    "write_oob_labels(data_test, root_dir)"
   ]
  }
 ],
 "metadata": {
  "kernelspec": {
   "display_name": "ML_med",
   "language": "python",
   "name": "python3"
  },
  "language_info": {
   "codemirror_mode": {
    "name": "ipython",
    "version": 3
   },
   "file_extension": ".py",
   "mimetype": "text/x-python",
   "name": "python",
   "nbconvert_exporter": "python",
   "pygments_lexer": "ipython3",
   "version": "3.11.8"
  }
 },
 "nbformat": 4,
 "nbformat_minor": 2
}

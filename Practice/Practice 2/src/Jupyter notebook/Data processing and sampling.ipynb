{
 "cells": [
  {
   "cell_type": "markdown",
   "metadata": {},
   "source": [
    "# $\\text{Import library}$"
   ]
  },
  {
   "cell_type": "code",
   "execution_count": 104,
   "metadata": {},
   "outputs": [],
   "source": [
    "import polars as pl\n",
    "import numpy as np\n",
    "import matplotlib.pyplot as plt\n",
    "import polars.selectors as cs\n",
    "from varname import argname\n",
    "import pathlib\n",
    "from pathlib import Path\n",
    "from PIL import Image\n",
    "import numpy.linalg as npla\n",
    "from matplotlib.patches import Ellipse\n",
    "from tqdm.contrib.concurrent import thread_map\n",
    "from shutil import copyfile, rmtree, move"
   ]
  },
  {
   "cell_type": "markdown",
   "metadata": {},
   "source": [
    "# $\\text{Utils functions}$"
   ]
  },
  {
   "cell_type": "code",
   "execution_count": 20,
   "metadata": {},
   "outputs": [],
   "source": [
    "def sampling_index(dataframe: pl.DataFrame, config) -> list[pl.DataFrame]:\n",
    "    \"\"\"\n",
    "    -Parameters\n",
    "        dataframe: pl.DataFrame\n",
    "            - The dataframe to be used for sampling\n",
    "        config: dict\n",
    "            - The configuration dictionary\n",
    "\n",
    "    - Behaviour\n",
    "        - This function will return the indices of the dataframe to be used for sampling of train, val, set\n",
    "\n",
    "    -Returns\n",
    "        - The indices of the dataframe to be used for sampling of train, val, set\n",
    "    \"\"\"\n",
    "\n",
    "    dataframe = dataframe.sample(fraction=1, shuffle=True)\n",
    "    train_size = int(dataframe.height * config.train_split)\n",
    "    val_size = int(dataframe.height * config.val_split)\n",
    "    test_size = dataframe.height - train_size - val_size\n",
    "    train_df = dataframe[0:train_size]\n",
    "    val_df = dataframe[train_size : train_size + val_size]\n",
    "    test_df = dataframe[train_size + val_size :]\n",
    "    return train_df, val_df, test_df"
   ]
  },
  {
   "cell_type": "code",
   "execution_count": 92,
   "metadata": {},
   "outputs": [],
   "source": [
    "def create_directory_tree(root_path:Path):\n",
    "    \"\"\"\n",
    "    -Parameters\n",
    "        root_path: Path\n",
    "            - The current path\n",
    "\n",
    "    - Behaviour\n",
    "        - This function will create the directory tree for the current path\n",
    "\n",
    "    -Returns\n",
    "        - None\n",
    "    \"\"\"\n",
    "    images = root_path / \"images\"\n",
    "    if images.exists():\n",
    "        rmtree(images)\n",
    "    images.mkdir(exist_ok=True)\n",
    "    annotations = root_path / \"annotations\"\n",
    "    if annotations.exists():\n",
    "        rmtree(annotations)\n",
    "    annotations.mkdir(exist_ok=True)\n",
    "    labels = root_path / \"labels\"\n",
    "    if labels.exists():\n",
    "        rmtree(labels)\n",
    "    labels.mkdir(exist_ok=True)\n",
    "    for path in [images, annotations, labels]:\n",
    "        for sub_path in [\"train\", \"val\", \"test\"]:\n",
    "            (path / sub_path).mkdir(exist_ok=True)\n",
    "    \n",
    "    print(f\"Directory tree created at {root_path}\")\n",
    "    "
   ]
  },
  {
   "cell_type": "code",
   "execution_count": 93,
   "metadata": {},
   "outputs": [],
   "source": [
    "def copy(src_dir:Path, dest_dir:Path):\n",
    "    \"\"\"\n",
    "    -Parameters\n",
    "        src_dir: Path\n",
    "            - The source directory\n",
    "        dest_dir: Path\n",
    "            - The destination directory\n",
    "\n",
    "    - Behaviour\n",
    "        - This function will move the file from the source directory to the destination directory\n",
    "\n",
    "    -Returns\n",
    "        - None\n",
    "    \"\"\"\n",
    "    src = src_dir\n",
    "    dest = dest_dir\n",
    "    copyfile(src, dest)\n",
    "    # print(f\"Moved {file_name} from {src_dir} to {dest_dir}\")"
   ]
  },
  {
   "cell_type": "code",
   "execution_count": 105,
   "metadata": {},
   "outputs": [],
   "source": [
    "def move_files(*dfs, root_dir) -> None:\n",
    "    \"\"\"\n",
    "    - Parameters\n",
    "        dfs: pl.DataFrame\n",
    "            - The dataframes that contain file to be moved\n",
    "    \n",
    "    - Behaviour\n",
    "        - This function will move the files from the source directory to the destination directory\n",
    "        \n",
    "    - Returns\n",
    "        - None\n",
    "    \"\"\"\n",
    "    df_names = [df.split(\"_\")[0] for df in argname(\"dfs\")]\n",
    "    \n",
    "    for df, df_name in zip(dfs, df_names):\n",
    "        print(f\"Copying files for {df_name}\\n\")\n",
    "        img_dirs = df[\"img_path\"].to_list()\n",
    "        img_dest = [root_dir / \"images\" / df_name / file.name for file in img_dirs]\n",
    "        ann_dirs = df[\"anno_path\"].to_list()\n",
    "        ann_dest = [root_dir / \"annotations\" / df_name / file.name for file in ann_dirs]\n",
    "        \n",
    "        print(f\"Copying {len(img_dirs)} images\\n\")\n",
    "        thread_map(copy, img_dirs, img_dest)\n",
    "        \n",
    "        print(f\"Copying {len(ann_dirs)} annotations\\n\\n\")\n",
    "        thread_map(copy, ann_dirs, ann_dest)\n",
    "    \n",
    "    print(\"Files moved successfully\")\n",
    "    move(root_dir / \"test_set\", root_dir / \"images\" / \"evaluate_set\")\n",
    "    rmtree(root_dir / \"training_set\")\n",
    "    \n",
    "    print(\"Fininshed moving files\")\n",
    "        \n",
    "        "
   ]
  },
  {
   "cell_type": "markdown",
   "metadata": {},
   "source": [
    "# $\\text{Config}$"
   ]
  },
  {
   "cell_type": "code",
   "execution_count": 21,
   "metadata": {},
   "outputs": [],
   "source": [
    "class Config:\n",
    "    def __init__(self):\n",
    "        self.train_split = 0.8\n",
    "        self.val_split = 0.1\n",
    "        self.test_split = 0.1"
   ]
  },
  {
   "cell_type": "code",
   "execution_count": 22,
   "metadata": {},
   "outputs": [],
   "source": [
    "config = Config()"
   ]
  },
  {
   "cell_type": "code",
   "execution_count": 111,
   "metadata": {},
   "outputs": [],
   "source": [
    "root_dir = Path(\"../../data\")"
   ]
  },
  {
   "cell_type": "markdown",
   "metadata": {},
   "source": [
    "# $\\text{Building directory tree}$"
   ]
  },
  {
   "cell_type": "code",
   "execution_count": 112,
   "metadata": {},
   "outputs": [
    {
     "name": "stdout",
     "output_type": "stream",
     "text": [
      "Directory tree created at ..\\..\\data\n"
     ]
    }
   ],
   "source": [
    "create_directory_tree(root_dir)"
   ]
  },
  {
   "cell_type": "markdown",
   "metadata": {},
   "source": [
    "# $\\text{Splitting data directory}$"
   ]
  },
  {
   "cell_type": "code",
   "execution_count": 113,
   "metadata": {},
   "outputs": [],
   "source": [
    "img_paths = sorted(Path(root_dir / \"training_set\").rglob(\"*HC.png\"))\n",
    "anno_paths = sorted(Path(root_dir / \"training_set\").rglob(\"*Annotation.png\"))"
   ]
  },
  {
   "cell_type": "code",
   "execution_count": 114,
   "metadata": {},
   "outputs": [],
   "source": [
    "train_df, val_df, test_df = sampling_index(\n",
    "    pl.DataFrame(\n",
    "        {\n",
    "            \"img_path\": img_paths,\n",
    "            \"anno_path\": anno_paths,\n",
    "        }\n",
    "    ),\n",
    "    config,\n",
    ")"
   ]
  },
  {
   "cell_type": "code",
   "execution_count": 115,
   "metadata": {},
   "outputs": [
    {
     "name": "stdout",
     "output_type": "stream",
     "text": [
      "Copying files for train\n",
      "\n",
      "Copying 799 images\n",
      "\n"
     ]
    },
    {
     "data": {
      "application/vnd.jupyter.widget-view+json": {
       "model_id": "efce7e397618487799a338e0c43b9ba7",
       "version_major": 2,
       "version_minor": 0
      },
      "text/plain": [
       "  0%|          | 0/799 [00:00<?, ?it/s]"
      ]
     },
     "metadata": {},
     "output_type": "display_data"
    },
    {
     "name": "stdout",
     "output_type": "stream",
     "text": [
      "Copying 799 annotations\n",
      "\n",
      "\n"
     ]
    },
    {
     "data": {
      "application/vnd.jupyter.widget-view+json": {
       "model_id": "6ac97755b92346129611de1a1843a6e6",
       "version_major": 2,
       "version_minor": 0
      },
      "text/plain": [
       "  0%|          | 0/799 [00:00<?, ?it/s]"
      ]
     },
     "metadata": {},
     "output_type": "display_data"
    },
    {
     "name": "stdout",
     "output_type": "stream",
     "text": [
      "Copying files for val\n",
      "\n",
      "Copying 99 images\n",
      "\n"
     ]
    },
    {
     "data": {
      "application/vnd.jupyter.widget-view+json": {
       "model_id": "38064eebb9444f17a3fd30e6a8d2c52a",
       "version_major": 2,
       "version_minor": 0
      },
      "text/plain": [
       "  0%|          | 0/99 [00:00<?, ?it/s]"
      ]
     },
     "metadata": {},
     "output_type": "display_data"
    },
    {
     "name": "stdout",
     "output_type": "stream",
     "text": [
      "Copying 99 annotations\n",
      "\n",
      "\n"
     ]
    },
    {
     "data": {
      "application/vnd.jupyter.widget-view+json": {
       "model_id": "f944550e400540928948d4f72c368519",
       "version_major": 2,
       "version_minor": 0
      },
      "text/plain": [
       "  0%|          | 0/99 [00:00<?, ?it/s]"
      ]
     },
     "metadata": {},
     "output_type": "display_data"
    },
    {
     "name": "stdout",
     "output_type": "stream",
     "text": [
      "Copying files for test\n",
      "\n",
      "Copying 101 images\n",
      "\n"
     ]
    },
    {
     "data": {
      "application/vnd.jupyter.widget-view+json": {
       "model_id": "e6b9796b70e84c1a90c297b1cc6cec2a",
       "version_major": 2,
       "version_minor": 0
      },
      "text/plain": [
       "  0%|          | 0/101 [00:00<?, ?it/s]"
      ]
     },
     "metadata": {},
     "output_type": "display_data"
    },
    {
     "name": "stdout",
     "output_type": "stream",
     "text": [
      "Copying 101 annotations\n",
      "\n",
      "\n"
     ]
    },
    {
     "data": {
      "application/vnd.jupyter.widget-view+json": {
       "model_id": "863b212e94894d1f992531f533635f32",
       "version_major": 2,
       "version_minor": 0
      },
      "text/plain": [
       "  0%|          | 0/101 [00:00<?, ?it/s]"
      ]
     },
     "metadata": {},
     "output_type": "display_data"
    },
    {
     "name": "stdout",
     "output_type": "stream",
     "text": [
      "Files moved successfully\n"
     ]
    }
   ],
   "source": [
    "move_files(train_df, val_df, test_df, root_dir=root_dir)"
   ]
  },
  {
   "cell_type": "code",
   "execution_count": null,
   "metadata": {},
   "outputs": [],
   "source": []
  }
 ],
 "metadata": {
  "kernelspec": {
   "display_name": "ML_med",
   "language": "python",
   "name": "python3"
  },
  "language_info": {
   "codemirror_mode": {
    "name": "ipython",
    "version": 3
   },
   "file_extension": ".py",
   "mimetype": "text/x-python",
   "name": "python",
   "nbconvert_exporter": "python",
   "pygments_lexer": "ipython3",
   "version": "3.11.8"
  }
 },
 "nbformat": 4,
 "nbformat_minor": 2
}
